{
 "cells": [
  {
   "cell_type": "markdown",
   "id": "be38de40",
   "metadata": {},
   "source": [
    "# Regression test\n",
    "\n",
    "Test the two-stage ridge regressor on a regular regression dataset."
   ]
  },
  {
   "cell_type": "code",
   "execution_count": 80,
   "id": "1fc8bca2",
   "metadata": {},
   "outputs": [],
   "source": [
    "from sklearn.datasets import load_boston\n",
    "from sklearn.model_selection import GridSearchCV\n",
    "from sklearn.pipeline import make_pipeline\n",
    "from sklearn.preprocessing import StandardScaler\n",
    "from sklearn.linear_model import Ridge, BayesianRidge\n",
    "\n",
    "from twostageridge import TwoStageRidge"
   ]
  },
  {
   "cell_type": "code",
   "execution_count": 81,
   "id": "0417aa2f",
   "metadata": {},
   "outputs": [],
   "source": [
    "data = load_boston()\n",
    "X, y = data.data, data.target"
   ]
  },
  {
   "cell_type": "code",
   "execution_count": 82,
   "id": "76ece63a",
   "metadata": {},
   "outputs": [],
   "source": [
    "params = {\n",
    "    \"twostageridge__regulariser1\": [0.01, 0.1, 1., 10., 100.],\n",
    "    \"twostageridge__regulariser2\": [0.01, 0.1, 1., 10., 100.]\n",
    "}\n",
    "\n",
    "model = make_pipeline(\n",
    "    StandardScaler(),\n",
    "    TwoStageRidge(treatment_col=13)\n",
    ")"
   ]
  },
  {
   "cell_type": "code",
   "execution_count": 83,
   "id": "51d6a39f",
   "metadata": {},
   "outputs": [
    {
     "data": {
      "text/plain": [
       "GridSearchCV(cv=5,\n",
       "             estimator=Pipeline(steps=[('standardscaler', StandardScaler()),\n",
       "                                       ('twostageridge',\n",
       "                                        TwoStageRidge(treatment_col=13))]),\n",
       "             param_grid={'twostageridge__regulariser1': [0.01, 0.1, 1.0, 10.0,\n",
       "                                                         100.0],\n",
       "                         'twostageridge__regulariser2': [0.01, 0.1, 1.0, 10.0,\n",
       "                                                         100.0]})"
      ]
     },
     "execution_count": 83,
     "metadata": {},
     "output_type": "execute_result"
    }
   ],
   "source": [
    "gs = GridSearchCV(model, param_grid=params, cv=5)\n",
    "gs.fit(X, y)"
   ]
  },
  {
   "cell_type": "code",
   "execution_count": 84,
   "id": "50cbfe04",
   "metadata": {},
   "outputs": [
    {
     "data": {
      "text/plain": [
       "0.4820711004593744"
      ]
     },
     "execution_count": 84,
     "metadata": {},
     "output_type": "execute_result"
    }
   ],
   "source": [
    "gs.best_score_"
   ]
  },
  {
   "cell_type": "code",
   "execution_count": 85,
   "id": "ce360265",
   "metadata": {},
   "outputs": [
    {
     "data": {
      "text/plain": [
       "{'twostageridge__regulariser1': 100.0, 'twostageridge__regulariser2': 100.0}"
      ]
     },
     "execution_count": 85,
     "metadata": {},
     "output_type": "execute_result"
    }
   ],
   "source": [
    "gs.best_params_"
   ]
  },
  {
   "cell_type": "code",
   "execution_count": 86,
   "id": "fe43dd30",
   "metadata": {},
   "outputs": [
    {
     "data": {
      "text/plain": [
       "0.4820711004593853"
      ]
     },
     "execution_count": 86,
     "metadata": {},
     "output_type": "execute_result"
    }
   ],
   "source": [
    "model = make_pipeline(\n",
    "    StandardScaler(),\n",
    "    Ridge()\n",
    ")\n",
    "gs = GridSearchCV(model, param_grid={\"ridge__alpha\": [0.01, 0.1, 1., 10., 100.]}, cv=5)\n",
    "gs.fit(X, y)\n",
    "gs.best_score_"
   ]
  },
  {
   "cell_type": "code",
   "execution_count": 87,
   "id": "51c07c56",
   "metadata": {},
   "outputs": [
    {
     "data": {
      "text/plain": [
       "{'ridge__alpha': 100.0}"
      ]
     },
     "execution_count": 87,
     "metadata": {},
     "output_type": "execute_result"
    }
   ],
   "source": [
    "gs.best_params_"
   ]
  },
  {
   "cell_type": "code",
   "execution_count": 88,
   "id": "3886bfc0",
   "metadata": {},
   "outputs": [
    {
     "data": {
      "text/plain": [
       "0.3790560205589541"
      ]
     },
     "execution_count": 88,
     "metadata": {},
     "output_type": "execute_result"
    }
   ],
   "source": [
    "model = make_pipeline(\n",
    "    StandardScaler(),\n",
    "    BayesianRidge()\n",
    ")\n",
    "gs = GridSearchCV(model, param_grid={}, cv=5)\n",
    "gs.fit(X, y)\n",
    "gs.best_score_"
   ]
  },
  {
   "cell_type": "code",
   "execution_count": null,
   "id": "e370c10a",
   "metadata": {},
   "outputs": [],
   "source": []
  }
 ],
 "metadata": {
  "kernelspec": {
   "display_name": "Python 3",
   "language": "python",
   "name": "python3"
  },
  "language_info": {
   "codemirror_mode": {
    "name": "ipython",
    "version": 3
   },
   "file_extension": ".py",
   "mimetype": "text/x-python",
   "name": "python",
   "nbconvert_exporter": "python",
   "pygments_lexer": "ipython3",
   "version": "3.9.4"
  }
 },
 "nbformat": 4,
 "nbformat_minor": 5
}
