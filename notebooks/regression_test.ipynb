{
 "cells": [
  {
   "cell_type": "markdown",
   "id": "00e544a3",
   "metadata": {},
   "source": [
    "# Regression test\n",
    "\n",
    "Test the two-stage ridge regressor on a regular regression dataset."
   ]
  },
  {
   "cell_type": "code",
   "execution_count": 12,
   "id": "3084389f",
   "metadata": {},
   "outputs": [],
   "source": [
    "from sklearn.datasets import load_boston\n",
    "from sklearn.model_selection import GridSearchCV\n",
    "from sklearn.pipeline import make_pipeline\n",
    "from sklearn.preprocessing import StandardScaler\n",
    "from sklearn.linear_model import Ridge, BayesianRidge\n",
    "\n",
    "from twostageridge import TwoStageRidge"
   ]
  },
  {
   "cell_type": "code",
   "execution_count": 13,
   "id": "bb31350c",
   "metadata": {},
   "outputs": [],
   "source": [
    "data = load_boston()\n",
    "X, y = data.data, data.target"
   ]
  },
  {
   "cell_type": "code",
   "execution_count": 14,
   "id": "8c91b841",
   "metadata": {},
   "outputs": [],
   "source": [
    "params = {\n",
    "    \"twostageridge__regulariser1\": [0.01, 0.1, 1., 10., 100.],\n",
    "    \"twostageridge__regulariser2\": [0.01, 0.1, 1., 10., 100.]\n",
    "}\n",
    "\n",
    "model = make_pipeline(\n",
    "    StandardScaler(),\n",
    "    TwoStageRidge(treatment_col=12)\n",
    ")"
   ]
  },
  {
   "cell_type": "code",
   "execution_count": 15,
   "id": "9b60c12d",
   "metadata": {},
   "outputs": [
    {
     "data": {
      "text/plain": [
       "GridSearchCV(cv=5,\n",
       "             estimator=Pipeline(steps=[('standardscaler', StandardScaler()),\n",
       "                                       ('twostageridge',\n",
       "                                        TwoStageRidge(treatment_col=12))]),\n",
       "             param_grid={'twostageridge__regulariser1': [0.01, 0.1, 1.0, 10.0,\n",
       "                                                         100.0],\n",
       "                         'twostageridge__regulariser2': [0.01, 0.1, 1.0, 10.0,\n",
       "                                                         100.0]})"
      ]
     },
     "execution_count": 15,
     "metadata": {},
     "output_type": "execute_result"
    }
   ],
   "source": [
    "gs = GridSearchCV(model, param_grid=params, cv=5)\n",
    "gs.fit(X, y)"
   ]
  },
  {
   "cell_type": "code",
   "execution_count": 16,
   "id": "02cf4cb8",
   "metadata": {},
   "outputs": [
    {
     "data": {
      "text/plain": [
       "0.41214332864614134"
      ]
     },
     "execution_count": 16,
     "metadata": {},
     "output_type": "execute_result"
    }
   ],
   "source": [
    "gs.best_score_"
   ]
  },
  {
   "cell_type": "code",
   "execution_count": 17,
   "id": "91af044f",
   "metadata": {},
   "outputs": [
    {
     "data": {
      "text/plain": [
       "{'twostageridge__regulariser1': 0.01, 'twostageridge__regulariser2': 10.0}"
      ]
     },
     "execution_count": 17,
     "metadata": {},
     "output_type": "execute_result"
    }
   ],
   "source": [
    "gs.best_params_"
   ]
  },
  {
   "cell_type": "code",
   "execution_count": 18,
   "id": "b78c649f",
   "metadata": {},
   "outputs": [
    {
     "data": {
      "text/plain": [
       "0.4820711004593853"
      ]
     },
     "execution_count": 18,
     "metadata": {},
     "output_type": "execute_result"
    }
   ],
   "source": [
    "model = make_pipeline(\n",
    "    StandardScaler(),\n",
    "    Ridge()\n",
    ")\n",
    "gs = GridSearchCV(model, param_grid={\"ridge__alpha\": [0.01, 0.1, 1., 10., 100.]}, cv=5)\n",
    "gs.fit(X, y)\n",
    "gs.best_score_"
   ]
  },
  {
   "cell_type": "code",
   "execution_count": 19,
   "id": "a9420576",
   "metadata": {},
   "outputs": [
    {
     "data": {
      "text/plain": [
       "{'ridge__alpha': 100.0}"
      ]
     },
     "execution_count": 19,
     "metadata": {},
     "output_type": "execute_result"
    }
   ],
   "source": [
    "gs.best_params_"
   ]
  },
  {
   "cell_type": "code",
   "execution_count": 20,
   "id": "e7daf1b2",
   "metadata": {},
   "outputs": [
    {
     "data": {
      "text/plain": [
       "0.3790560205589541"
      ]
     },
     "execution_count": 20,
     "metadata": {},
     "output_type": "execute_result"
    }
   ],
   "source": [
    "model = make_pipeline(\n",
    "    StandardScaler(),\n",
    "    BayesianRidge()\n",
    ")\n",
    "gs = GridSearchCV(model, param_grid={}, cv=5)\n",
    "gs.fit(X, y)\n",
    "gs.best_score_"
   ]
  },
  {
   "cell_type": "code",
   "execution_count": 21,
   "id": "a213288d",
   "metadata": {},
   "outputs": [],
   "source": [
    "import pandas as pd\n",
    "\n",
    "Xdf = pd.DataFrame(X, columns=[str(n) for n in range(X.shape[1])])"
   ]
  },
  {
   "cell_type": "code",
   "execution_count": 22,
   "id": "444e59b5",
   "metadata": {},
   "outputs": [
    {
     "data": {
      "text/plain": [
       "GridSearchCV(cv=5,\n",
       "             estimator=Pipeline(steps=[('standardscaler', StandardScaler()),\n",
       "                                       ('twostageridge',\n",
       "                                        TwoStageRidge(treatment_col=12))]),\n",
       "             param_grid={'twostageridge__regulariser1': [0.01, 0.1, 1.0, 10.0,\n",
       "                                                         100.0],\n",
       "                         'twostageridge__regulariser2': [0.01, 0.1, 1.0, 10.0,\n",
       "                                                         100.0]})"
      ]
     },
     "execution_count": 22,
     "metadata": {},
     "output_type": "execute_result"
    }
   ],
   "source": [
    "model = make_pipeline(\n",
    "    StandardScaler(),\n",
    "    TwoStageRidge(treatment_col=12)\n",
    ")\n",
    "gs = GridSearchCV(model, param_grid=params, cv=5)\n",
    "gs.fit(Xdf, y)"
   ]
  },
  {
   "cell_type": "code",
   "execution_count": 23,
   "id": "0cf1d967",
   "metadata": {},
   "outputs": [
    {
     "data": {
      "text/plain": [
       "True"
      ]
     },
     "execution_count": 23,
     "metadata": {},
     "output_type": "execute_result"
    }
   ],
   "source": [
    "hasattr(Xdf, 'columns')"
   ]
  },
  {
   "cell_type": "code",
   "execution_count": 24,
   "id": "4d36d6f0",
   "metadata": {},
   "outputs": [],
   "source": [
    "ind = list(Xdf.columns).index(\"12\")"
   ]
  },
  {
   "cell_type": "code",
   "execution_count": 25,
   "id": "7ea3ad69",
   "metadata": {},
   "outputs": [
    {
     "data": {
      "text/plain": [
       "12"
      ]
     },
     "execution_count": 25,
     "metadata": {},
     "output_type": "execute_result"
    }
   ],
   "source": [
    "ind"
   ]
  },
  {
   "cell_type": "code",
   "execution_count": 26,
   "id": "9ea2fe1a",
   "metadata": {},
   "outputs": [
    {
     "data": {
      "text/plain": [
       "int"
      ]
     },
     "execution_count": 26,
     "metadata": {},
     "output_type": "execute_result"
    }
   ],
   "source": [
    "type(ind)"
   ]
  },
  {
   "cell_type": "code",
   "execution_count": 27,
   "id": "82da208f",
   "metadata": {},
   "outputs": [
    {
     "data": {
      "text/plain": [
       "array([[6.3200e-03, 1.8000e+01, 2.3100e+00, ..., 1.5300e+01, 3.9690e+02,\n",
       "        4.9800e+00],\n",
       "       [2.7310e-02, 0.0000e+00, 7.0700e+00, ..., 1.7800e+01, 3.9690e+02,\n",
       "        9.1400e+00],\n",
       "       [2.7290e-02, 0.0000e+00, 7.0700e+00, ..., 1.7800e+01, 3.9283e+02,\n",
       "        4.0300e+00],\n",
       "       ...,\n",
       "       [6.0760e-02, 0.0000e+00, 1.1930e+01, ..., 2.1000e+01, 3.9690e+02,\n",
       "        5.6400e+00],\n",
       "       [1.0959e-01, 0.0000e+00, 1.1930e+01, ..., 2.1000e+01, 3.9345e+02,\n",
       "        6.4800e+00],\n",
       "       [4.7410e-02, 0.0000e+00, 1.1930e+01, ..., 2.1000e+01, 3.9690e+02,\n",
       "        7.8800e+00]])"
      ]
     },
     "execution_count": 27,
     "metadata": {},
     "output_type": "execute_result"
    }
   ],
   "source": [
    "Xdf.to_numpy()"
   ]
  },
  {
   "cell_type": "code",
   "execution_count": null,
   "id": "7c1ee47b",
   "metadata": {},
   "outputs": [],
   "source": []
  }
 ],
 "metadata": {
  "kernelspec": {
   "display_name": "Python 3",
   "language": "python",
   "name": "python3"
  },
  "language_info": {
   "codemirror_mode": {
    "name": "ipython",
    "version": 3
   },
   "file_extension": ".py",
   "mimetype": "text/x-python",
   "name": "python",
   "nbconvert_exporter": "python",
   "pygments_lexer": "ipython3",
   "version": "3.9.4"
  }
 },
 "nbformat": 4,
 "nbformat_minor": 5
}
