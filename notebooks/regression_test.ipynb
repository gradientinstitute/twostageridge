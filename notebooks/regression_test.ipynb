{
 "cells": [
  {
   "cell_type": "markdown",
   "id": "00e544a3",
   "metadata": {},
   "source": [
    "# Regression test\n",
    "\n",
    "Test the two-stage ridge regressor on a regular regression dataset."
   ]
  },
  {
   "cell_type": "code",
   "execution_count": 1,
   "id": "3084389f",
   "metadata": {},
   "outputs": [],
   "source": [
    "from sklearn.datasets import load_boston\n",
    "from sklearn.model_selection import GridSearchCV\n",
    "from sklearn.pipeline import make_pipeline\n",
    "from sklearn.preprocessing import StandardScaler\n",
    "from sklearn.linear_model import Ridge, BayesianRidge\n",
    "from sklearn.kernel_approximation import Nystroem\n",
    "from sklearn.compose import ColumnTransformer\n",
    "\n",
    "from twostageridge import TwoStageRidge"
   ]
  },
  {
   "cell_type": "markdown",
   "id": "44d562bc",
   "metadata": {},
   "source": [
    "## Load the data - Boston housing"
   ]
  },
  {
   "cell_type": "code",
   "execution_count": 2,
   "id": "bb31350c",
   "metadata": {},
   "outputs": [],
   "source": [
    "data = load_boston()\n",
    "X, y = data.data, data.target\n",
    "y -= y.mean()\n",
    "y /= y.std()\n",
    "D = X.shape[1]"
   ]
  },
  {
   "cell_type": "markdown",
   "id": "0b630b77",
   "metadata": {},
   "source": [
    "## Fit linear models"
   ]
  },
  {
   "cell_type": "code",
   "execution_count": 3,
   "id": "9b60c12d",
   "metadata": {},
   "outputs": [
    {
     "name": "stdout",
     "output_type": "stream",
     "text": [
      "best score R^2: 0.4659\n",
      "best parameters: \n",
      "\t{'twostageridge__regulariser2': 100.0}\n"
     ]
    }
   ],
   "source": [
    "model = make_pipeline(\n",
    "    StandardScaler(),\n",
    "    TwoStageRidge(treatment_index=0)\n",
    ")\n",
    "\n",
    "gs = GridSearchCV(\n",
    "    model,\n",
    "    param_grid={\"twostageridge__regulariser2\": [1, 1e1, 1e2, 1e3, 1e4]},\n",
    "    cv=5\n",
    ")\n",
    "gs.fit(X, y)\n",
    "print(f\"best score R^2: {gs.best_score_:.4f}\")\n",
    "print(f\"best parameters: \\n\\t{gs.best_params_}\")"
   ]
  },
  {
   "cell_type": "code",
   "execution_count": 4,
   "id": "810dfc5a",
   "metadata": {},
   "outputs": [
    {
     "name": "stdout",
     "output_type": "stream",
     "text": [
      "best score R^2: -25.7449\n"
     ]
    }
   ],
   "source": [
    "# Score the first stage model\n",
    "score_z = gs.best_estimator_[\"twostageridge\"].score_stage1(X)\n",
    "print(f\"best score R^2: {score_z:.4f}\")"
   ]
  },
  {
   "cell_type": "code",
   "execution_count": 5,
   "id": "b78c649f",
   "metadata": {},
   "outputs": [
    {
     "name": "stdout",
     "output_type": "stream",
     "text": [
      "best score R^2: 0.4821\n",
      "best parameters: \n",
      "\t{'ridge__alpha': 100.0}\n"
     ]
    }
   ],
   "source": [
    "model = make_pipeline(\n",
    "    StandardScaler(),\n",
    "    Ridge()\n",
    ")\n",
    "gs = GridSearchCV(model, param_grid={\"ridge__alpha\": [1, 1e1, 1e2, 1e3, 1e4]}, cv=5)\n",
    "gs.fit(X, y)\n",
    "print(f\"best score R^2: {gs.best_score_:.4f}\")\n",
    "print(f\"best parameters: \\n\\t{gs.best_params_}\")"
   ]
  },
  {
   "cell_type": "markdown",
   "id": "adeafc29",
   "metadata": {},
   "source": [
    "## Non-linear controls\n",
    "\n",
    "This dataset is known to have some non-linear relationships"
   ]
  },
  {
   "cell_type": "code",
   "execution_count": 6,
   "id": "e7daf1b2",
   "metadata": {},
   "outputs": [
    {
     "name": "stdout",
     "output_type": "stream",
     "text": [
      "best score R^2: 0.6840\n",
      "best parameters: \n",
      "\t{'nystroem__gamma': 0.001}\n"
     ]
    }
   ],
   "source": [
    "# BayesianRidge + Nystroem\n",
    "model = make_pipeline(\n",
    "    StandardScaler(),\n",
    "    Nystroem(n_components=30),\n",
    "    BayesianRidge()\n",
    ")\n",
    "gs = GridSearchCV(model, param_grid={\"nystroem__gamma\": [1e-3, 1e-2, 0.1, 1.0]}, cv=5)\n",
    "gs.fit(X, y)\n",
    "print(f\"best score R^2: {gs.best_score_:.4f}\")\n",
    "print(f\"best parameters: \\n\\t{gs.best_params_}\")"
   ]
  },
  {
   "cell_type": "code",
   "execution_count": 7,
   "id": "d3500f04",
   "metadata": {},
   "outputs": [
    {
     "name": "stdout",
     "output_type": "stream",
     "text": [
      "best score R^2: 0.6173\n",
      "best parameters: \n",
      "\t{'columntransformer__controls__gamma': 0.01, 'twostageridge__regulariser2': 0.001}\n"
     ]
    }
   ],
   "source": [
    "# TwoStageRidge + Nystroem\n",
    "# NOTE: This keeps a linear treatment relationship\n",
    "model = make_pipeline(\n",
    "    StandardScaler(),\n",
    "    ColumnTransformer([\n",
    "        (\"treatment\", 'passthrough', slice(0, 1)),\n",
    "        (\"controls\", Nystroem(n_components=30), slice(1, D))\n",
    "    ]),\n",
    "    TwoStageRidge(treatment_index=0)\n",
    ")\n",
    "\n",
    "gs = GridSearchCV(\n",
    "    model,\n",
    "    param_grid={\n",
    "        \"twostageridge__regulariser2\": [1e-3, 1e-2, 0.1, 1, 10],\n",
    "        \"columntransformer__controls__gamma\": [1e-3, 1e-2, 0.1, 1.0]\n",
    "    },\n",
    "    cv=5\n",
    ")\n",
    "gs.fit(X, y)\n",
    "print(f\"best score R^2: {gs.best_score_:.4f}\")\n",
    "print(f\"best parameters: \\n\\t{gs.best_params_}\")"
   ]
  },
  {
   "cell_type": "code",
   "execution_count": 8,
   "id": "29b90bcc",
   "metadata": {},
   "outputs": [
    {
     "name": "stdout",
     "output_type": "stream",
     "text": [
      "best score R^2: 0.5045\n"
     ]
    }
   ],
   "source": [
    "# Score the first stage model\n",
    "score_z =gs.best_estimator_[\"twostageridge\"].score_stage1(gs.best_estimator_[0:2].transform(X))\n",
    "print(f\"best score R^2: {score_z:.4f}\")"
   ]
  },
  {
   "cell_type": "code",
   "execution_count": null,
   "id": "4cbf872f",
   "metadata": {},
   "outputs": [],
   "source": []
  }
 ],
 "metadata": {
  "kernelspec": {
   "display_name": "Python 3",
   "language": "python",
   "name": "python3"
  },
  "language_info": {
   "codemirror_mode": {
    "name": "ipython",
    "version": 3
   },
   "file_extension": ".py",
   "mimetype": "text/x-python",
   "name": "python",
   "nbconvert_exporter": "python",
   "pygments_lexer": "ipython3",
   "version": "3.9.5"
  }
 },
 "nbformat": 4,
 "nbformat_minor": 5
}
