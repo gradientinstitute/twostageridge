{
 "cells": [
  {
   "cell_type": "markdown",
   "id": "00e544a3",
   "metadata": {},
   "source": [
    "```\n",
    "Copyright (c) Gradient Institute. All rights reserved.\n",
    "Licensed under the Apache 2.0 License.\n",
    "```\n",
    "\n",
    "\n",
    "# Model selection demonstration\n",
    "\n",
    "This notebook uses a regular regression dataset to demonstrate how to perform model selection on both stages of the TwoStageRidge model.\n",
    "\n",
    "We also demonstrate how to make the model nonlinear in the control covariates."
   ]
  },
  {
   "cell_type": "code",
   "execution_count": 9,
   "id": "3084389f",
   "metadata": {},
   "outputs": [],
   "source": [
    "import numpy as np\n",
    "\n",
    "from sklearn.datasets import load_boston\n",
    "from sklearn.model_selection import GridSearchCV, cross_validate\n",
    "from sklearn.pipeline import make_pipeline\n",
    "from sklearn.preprocessing import StandardScaler\n",
    "from sklearn.linear_model import Ridge, BayesianRidge\n",
    "from sklearn.kernel_approximation import Nystroem\n",
    "from sklearn.compose import ColumnTransformer\n",
    "from sklearn.metrics import r2_score\n",
    "\n",
    "from twostageridge import TwoStageRidge, make_first_stage_scorer, make_combined_stage_scorer"
   ]
  },
  {
   "cell_type": "markdown",
   "id": "44d562bc",
   "metadata": {},
   "source": [
    "## Load the data - Boston housing"
   ]
  },
  {
   "cell_type": "code",
   "execution_count": 3,
   "id": "bb31350c",
   "metadata": {},
   "outputs": [],
   "source": [
    "data = load_boston()\n",
    "X, y = data.data, data.target\n",
    "N, D = X.shape\n",
    "\n",
    "# Standardise the targets\n",
    "y -= y.mean()\n",
    "y /= y.std()\n",
    "\n",
    "# Shuffle the data\n",
    "pint = np.random.permutation(N)\n",
    "y = y[pint]\n",
    "X = X[pint, :]\n",
    "\n",
    "# \"treatment\" index, we need to give this to the two stage model.\n",
    "treatment_ind = 0"
   ]
  },
  {
   "cell_type": "markdown",
   "id": "adeafc29",
   "metadata": {},
   "source": [
    "## Non-linear models\n",
    "\n",
    "This dataset is known to have some non-linear relationships.\n",
    "\n",
    "### TwoStageRidge"
   ]
  },
  {
   "cell_type": "code",
   "execution_count": 4,
   "id": "d3500f04",
   "metadata": {},
   "outputs": [],
   "source": [
    "# TwoStageRidge + Nystroem\n",
    "control_ind = np.delete(np.arange(D), treatment_ind)\n",
    "\n",
    "# NOTE: This keeps a linear treatment relationship\n",
    "model = make_pipeline(\n",
    "    StandardScaler(),\n",
    "    ColumnTransformer([\n",
    "        (\"treatment\", 'passthrough', [treatment_ind]),\n",
    "        (\"controls\", Nystroem(n_components=300), control_ind)\n",
    "    ]),\n",
    "    TwoStageRidge(treatment_index=treatment_ind)\n",
    ")"
   ]
  },
  {
   "cell_type": "markdown",
   "id": "9c64a06e",
   "metadata": {},
   "source": [
    "#### Separate stage model selection\n",
    "\n",
    "First let's try doing model selection *separately* on each of the\n",
    "stages in the two stage model.\n",
    "\n",
    "We perform two grid-searches. The first grid search is for the first\n",
    "stage of the two stage ridge regression model, and uses the \n",
    "`make_first_stage_scorer` function for creating a scorer that\n",
    "evaluated the score of the model in predicting the treatment variable."
   ]
  },
  {
   "cell_type": "code",
   "execution_count": 5,
   "id": "fdbc3503",
   "metadata": {},
   "outputs": [
    {
     "name": "stdout",
     "output_type": "stream",
     "text": [
      "best stage-1 score R^2: 0.5539\n",
      "best stage-1 parameters: \n",
      "\t{'columntransformer__controls__gamma': 0.01, 'twostageridge__regulariser1': 0.01}\n",
      "\n",
      "best stage-2 score R^2: 0.8679\n",
      "best stage-2 parameters: \n",
      "\t{'twostageridge__regulariser2': 0.001}\n"
     ]
    }
   ],
   "source": [
    "# Model selection for stage 1\n",
    "gs = GridSearchCV(\n",
    "    model,\n",
    "    param_grid={\n",
    "        \"twostageridge__regulariser1\": [1e-3, 1e-2, 0.1, 1, 10],\n",
    "        \"columntransformer__controls__gamma\": [1e-3, 1e-2, 0.1, 1.0]\n",
    "    },\n",
    "    cv=10,\n",
    "    scoring=make_first_stage_scorer(r2_score)  # Note this special scorer function! \n",
    ")\n",
    "gs.fit(X, y)\n",
    "print(f\"best stage-1 score R^2: {gs.best_score_:.4f}\")\n",
    "print(f\"best stage-1 parameters: \\n\\t{gs.best_params_}\\n\")\n",
    "\n",
    "\n",
    "# Model selection for stage 2\n",
    "gs = GridSearchCV(\n",
    "    gs.best_estimator_,\n",
    "    param_grid={\n",
    "        \"twostageridge__regulariser2\": [1e-3, 1e-2, 0.1, 1, 10]\n",
    "    },\n",
    "    cv=10\n",
    ")\n",
    "gs.fit(X, y)\n",
    "print(f\"best stage-2 score R^2: {gs.best_score_:.4f}\")\n",
    "print(f\"best stage-2 parameters: \\n\\t{gs.best_params_}\")"
   ]
  },
  {
   "cell_type": "markdown",
   "id": "a249a730",
   "metadata": {},
   "source": [
    "#### Combined model selection \n",
    "\n",
    "Now let's see what happens if we do model selection on them simultaneously.\n",
    "\n",
    "No we can use one grid search. The `make_combined_stage_scorer` function combines\n",
    "the scores of the first and second stage models in predicting the treatments and\n",
    "outcomes respectively. In this case the scores are just added."
   ]
  },
  {
   "cell_type": "code",
   "execution_count": 7,
   "id": "480480ae",
   "metadata": {},
   "outputs": [
    {
     "name": "stdout",
     "output_type": "stream",
     "text": [
      "best combined score R^2: 1.4258\n",
      "best parameters: \n",
      "\t{'columntransformer__controls__gamma': 0.1, 'twostageridge__regulariser1': 1, 'twostageridge__regulariser2': 0.01}\n"
     ]
    }
   ],
   "source": [
    "# Model selection for stage 1\n",
    "gs = GridSearchCV(\n",
    "    model,\n",
    "    param_grid={\n",
    "        \"twostageridge__regulariser1\": [1e-3, 1e-2, 0.1, 1, 10],\n",
    "        \"twostageridge__regulariser2\": [1e-3, 1e-2, 0.1, 1, 10],\n",
    "        \"columntransformer__controls__gamma\": [1e-3, 1e-2, 0.1, 1.0],\n",
    "    },\n",
    "    cv=10,\n",
    "    scoring=make_combined_stage_scorer(r2_score)  # Note this special scorer function! \n",
    ")\n",
    "gs.fit(X, y)\n",
    "\n",
    "print(f\"best combined score R^2: {gs.best_score_:.4f}\")\n",
    "print(f\"best parameters: \\n\\t{gs.best_params_}\")"
   ]
  },
  {
   "cell_type": "markdown",
   "id": "e7b22dc4",
   "metadata": {},
   "source": [
    "Let's get an approximate idea of how each stage performs in this model."
   ]
  },
  {
   "cell_type": "code",
   "execution_count": 14,
   "id": "870a4437",
   "metadata": {},
   "outputs": [
    {
     "name": "stdout",
     "output_type": "stream",
     "text": [
      "First stage R^2: 0.5523\n",
      "Second stage R^2: 0.8612\n"
     ]
    }
   ],
   "source": [
    "scores = cross_validate(gs.best_estimator_, X, y, cv=10, scoring=make_first_stage_scorer(r2_score))\n",
    "print(f\"First stage R^2: {scores['test_score'].mean():.4f}\")\n",
    "\n",
    "scores = cross_validate(gs.best_estimator_, X, y, cv=10, scoring=\"r2\")\n",
    "print(f\"Second stage R^2: {scores['test_score'].mean():.4f}\")"
   ]
  },
  {
   "cell_type": "markdown",
   "id": "29a4260d",
   "metadata": {},
   "source": [
    "### BayesianRidge\n",
    "\n",
    "Comparison to a BayesianRidge regressor that uses maximum likelihood type II to learn its regularisation prior. This model is completely non-linear, not partially non-linear like the two stage models previously."
   ]
  },
  {
   "cell_type": "code",
   "execution_count": 4,
   "id": "e7daf1b2",
   "metadata": {},
   "outputs": [
    {
     "name": "stdout",
     "output_type": "stream",
     "text": [
      "best score R^2: 0.8834\n",
      "best parameters: \n",
      "\t{'nystroem__gamma': 0.1}\n"
     ]
    }
   ],
   "source": [
    "# BayesianRidge + Nystroem\n",
    "model = make_pipeline(\n",
    "    StandardScaler(),\n",
    "    Nystroem(n_components=300),\n",
    "    BayesianRidge()\n",
    ")\n",
    "\n",
    "gs = GridSearchCV(model, param_grid={\"nystroem__gamma\": [1e-3, 1e-2, 0.1, 1.0]}, cv=10)\n",
    "gs.fit(X, y)\n",
    "print(f\"best score R^2: {gs.best_score_:.4f}\")\n",
    "print(f\"best parameters: \\n\\t{gs.best_params_}\")"
   ]
  },
  {
   "cell_type": "code",
   "execution_count": null,
   "id": "3e62e3fb",
   "metadata": {},
   "outputs": [],
   "source": []
  }
 ],
 "metadata": {
  "kernelspec": {
   "display_name": "Python 3",
   "language": "python",
   "name": "python3"
  },
  "language_info": {
   "codemirror_mode": {
    "name": "ipython",
    "version": 3
   },
   "file_extension": ".py",
   "mimetype": "text/x-python",
   "name": "python",
   "nbconvert_exporter": "python",
   "pygments_lexer": "ipython3",
   "version": "3.9.5"
  }
 },
 "nbformat": 4,
 "nbformat_minor": 5
}
