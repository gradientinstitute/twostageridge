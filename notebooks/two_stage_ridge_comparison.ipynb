{
 "cells": [
  {
   "cell_type": "markdown",
   "id": "centered-difficulty",
   "metadata": {},
   "source": [
    "```\n",
    "Copyright (c) Gradient Institute. All rights reserved.\n",
    "Licensed under the Apache 2.0 License.\n",
    "```\n",
    "\n",
    "\n",
    "This notebook tests out this fix for estimating treatment effect in regularised linear models:\n",
    "\n",
    "Hahn, P.R., Carvalho, C.M., Puelz, D., He, J., 2018. Regularization and Confounding in Linear Regression for Treatment Effect Estimation. Bayesian Anal. 13. https://doi.org/10.1214/16-BA1044\n"
   ]
  },
  {
   "cell_type": "code",
   "execution_count": 1,
   "id": "neural-oasis",
   "metadata": {},
   "outputs": [],
   "source": [
    "import numpy as np\n",
    "import pandas as pd\n",
    "\n",
    "from sklearn.linear_model import LinearRegression, BayesianRidge, LassoCV, RidgeCV\n",
    "from sklearn.model_selection import train_test_split\n",
    "\n",
    "from twostageridge import TwoStageRidge"
   ]
  },
  {
   "cell_type": "markdown",
   "id": "western-retrieval",
   "metadata": {},
   "source": [
    "# Generate the data"
   ]
  },
  {
   "cell_type": "code",
   "execution_count": 2,
   "id": "sensitive-valuable",
   "metadata": {},
   "outputs": [],
   "source": [
    "N = 500\n",
    "D_rand = 4  # concatenate this many random columns onto X\n",
    "random_proj = True  # randomly project control variables\n",
    "proj_D = 80\n",
    "\n",
    "# Confounders - X\n",
    "mu_x = np.zeros(4)\n",
    "cov_x = np.array([\n",
    "    [ 1.0,  0.5,  0.0,  0.3],\n",
    "    [ 0.5,  1.0, -0.2,  0.0],\n",
    "    [ 0.0, -0.2,  1.0, -0.7],\n",
    "    [ 0.3,  0.0, -0.7,  1.0]\n",
    "])\n",
    "\n",
    "\n",
    "# Treatment - Z\n",
    "gamma = np.array([2., 1., 0.0, -0.5])\n",
    "sig_eps = 0.5\n",
    "\n",
    "\n",
    "# Target - Y\n",
    "alpha = .3\n",
    "beta = np.array([1., -2., 1.5, 0.0])\n",
    "sig_nu = 1.4\n",
    "\n",
    "# Generation function\n",
    "def generate_data():\n",
    "    X = np.random.multivariate_normal(mean=mu_x, cov=cov_x, size=N)\n",
    "    Z = X @ gamma + sig_eps * np.random.randn(N)\n",
    "    Y = alpha * Z + X @ beta + sig_nu * np.random.randn(N)\n",
    "\n",
    "    X = np.hstack((X, np.random.randn(N, D_rand)))\n",
    "    if random_proj:\n",
    "        D = X.shape[1]\n",
    "        X = X @ np.random.standard_t(size=(D, proj_D), df=3)\n",
    "\n",
    "    W = np.hstack((Z[:, np.newaxis], X))\n",
    "    \n",
    "    return W, Y"
   ]
  },
  {
   "cell_type": "markdown",
   "id": "689e16bb",
   "metadata": {},
   "source": [
    "# Generate bias comparison results"
   ]
  },
  {
   "cell_type": "code",
   "execution_count": 3,
   "id": "fitting-state",
   "metadata": {
    "scrolled": false
   },
   "outputs": [
    {
     "name": "stdout",
     "output_type": "stream",
     "text": [
      "....................\n"
     ]
    },
    {
     "data": {
      "text/html": [
       "<div>\n",
       "<style scoped>\n",
       "    .dataframe tbody tr th:only-of-type {\n",
       "        vertical-align: middle;\n",
       "    }\n",
       "\n",
       "    .dataframe tbody tr th {\n",
       "        vertical-align: top;\n",
       "    }\n",
       "\n",
       "    .dataframe thead th {\n",
       "        text-align: right;\n",
       "    }\n",
       "</style>\n",
       "<table border=\"1\" class=\"dataframe\">\n",
       "  <thead>\n",
       "    <tr style=\"text-align: right;\">\n",
       "      <th></th>\n",
       "      <th>scores</th>\n",
       "      <th>mean absolute error</th>\n",
       "      <th>root mean square error</th>\n",
       "    </tr>\n",
       "  </thead>\n",
       "  <tbody>\n",
       "    <tr>\n",
       "      <th>ols</th>\n",
       "      <td>0.749331</td>\n",
       "      <td>0.095803</td>\n",
       "      <td>0.127574</td>\n",
       "    </tr>\n",
       "    <tr>\n",
       "      <th>lasso</th>\n",
       "      <td>0.747343</td>\n",
       "      <td>0.147999</td>\n",
       "      <td>0.178170</td>\n",
       "    </tr>\n",
       "    <tr>\n",
       "      <th>ridge</th>\n",
       "      <td>0.749171</td>\n",
       "      <td>0.090936</td>\n",
       "      <td>0.116569</td>\n",
       "    </tr>\n",
       "    <tr>\n",
       "      <th>bayes</th>\n",
       "      <td>0.746883</td>\n",
       "      <td>0.210907</td>\n",
       "      <td>0.218878</td>\n",
       "    </tr>\n",
       "    <tr>\n",
       "      <th>ts</th>\n",
       "      <td>0.749265</td>\n",
       "      <td>0.092647</td>\n",
       "      <td>0.125752</td>\n",
       "    </tr>\n",
       "  </tbody>\n",
       "</table>\n",
       "</div>"
      ],
      "text/plain": [
       "         scores  mean absolute error  root mean square error\n",
       "ols    0.749331             0.095803                0.127574\n",
       "lasso  0.747343             0.147999                0.178170\n",
       "ridge  0.749171             0.090936                0.116569\n",
       "bayes  0.746883             0.210907                0.218878\n",
       "ts     0.749265             0.092647                0.125752"
      ]
     },
     "execution_count": 3,
     "metadata": {},
     "output_type": "execute_result"
    }
   ],
   "source": [
    "S = 20\n",
    "models = {\n",
    "    \"ols\": LinearRegression(),\n",
    "    \"lasso\": LassoCV(max_iter=20000),\n",
    "    \"ridge\": RidgeCV(),\n",
    "    \"bayes\": BayesianRidge(),\n",
    "    \"ts\": TwoStageRidge(treatment_index=0, regulariser1=.1, regulariser2=.1)\n",
    "}\n",
    "\n",
    "scores = {k: [] for k in models.keys()}\n",
    "mae = {k: [] for k in models.keys()}\n",
    "rmse = {k: [] for k in models.keys()}\n",
    "\n",
    "for s in range(S):\n",
    "    W, Y = generate_data()\n",
    "    W_train, W_test, Y_train, Y_test = train_test_split(W, Y, train_size=0.9)\n",
    "    \n",
    "    for name, model in models.items():\n",
    "        model.fit(W_train, Y_train)\n",
    "        alpha_hat = model.alpha_ if name == \"ts\" else model.coef_[0]\n",
    "        err = alpha - alpha_hat\n",
    "        abs_err = np.abs(err)\n",
    "        sq_err = (err)**2\n",
    "        \n",
    "        scores[name].append(model.score(W_test, Y_test))\n",
    "        mae[name].append(abs_err)\n",
    "        rmse[name].append(sq_err)\n",
    "        \n",
    "    print('.', end='')\n",
    "print()\n",
    "        \n",
    "        \n",
    "scores = {k: np.mean(v) for k, v in scores.items()}\n",
    "mae = {k: np.mean(v) for k, v in mae.items()}\n",
    "rmse = {k: np.sqrt(np.mean(v)) for k, v in rmse.items()}\n",
    "\n",
    "\n",
    "results = pd.DataFrame({\n",
    "    \"scores\": scores,\n",
    "    \"mean absolute error\": mae,\n",
    "    \"root mean square error\": rmse\n",
    "})\n",
    "\n",
    "results"
   ]
  },
  {
   "cell_type": "code",
   "execution_count": 4,
   "id": "7087afac",
   "metadata": {},
   "outputs": [
    {
     "data": {
      "text/plain": [
       "0.9675402526062132"
      ]
     },
     "execution_count": 4,
     "metadata": {},
     "output_type": "execute_result"
    }
   ],
   "source": [
    "models[\"ts\"].score_stage1(W)"
   ]
  },
  {
   "cell_type": "code",
   "execution_count": null,
   "id": "2d21d397",
   "metadata": {},
   "outputs": [],
   "source": []
  }
 ],
 "metadata": {
  "kernelspec": {
   "display_name": "Python 3",
   "language": "python",
   "name": "python3"
  },
  "language_info": {
   "codemirror_mode": {
    "name": "ipython",
    "version": 3
   },
   "file_extension": ".py",
   "mimetype": "text/x-python",
   "name": "python",
   "nbconvert_exporter": "python",
   "pygments_lexer": "ipython3",
   "version": "3.9.5"
  }
 },
 "nbformat": 4,
 "nbformat_minor": 5
}
