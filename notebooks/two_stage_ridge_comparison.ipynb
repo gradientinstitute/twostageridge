{
 "cells": [
  {
   "cell_type": "markdown",
   "id": "centered-difficulty",
   "metadata": {},
   "source": [
    "```\n",
    "Copyright (c) Gradient Institute. All rights reserved.\n",
    "Licensed under the Apache 2.0 License.\n",
    "```\n",
    "\n",
    "\n",
    "This notebook tests out this fix for estimating treatment effect in regularised linear models:\n",
    "\n",
    "Hahn, P.R., Carvalho, C.M., Puelz, D., He, J., 2018. Regularization and Confounding in Linear Regression for Treatment Effect Estimation. Bayesian Anal. 13. https://doi.org/10.1214/16-BA1044\n"
   ]
  },
  {
   "cell_type": "code",
   "execution_count": 1,
   "id": "neural-oasis",
   "metadata": {},
   "outputs": [],
   "source": [
    "import numpy as np\n",
    "import pandas as pd\n",
    "\n",
    "from sklearn.linear_model import LinearRegression, BayesianRidge, Lasso, Ridge, ARDRegression\n",
    "from sklearn.inspection import plot_partial_dependence\n",
    "from sklearn.base import BaseEstimator\n",
    "from sklearn.metrics import r2_score\n",
    "\n",
    "from twostageridge import TwoStageRidge"
   ]
  },
  {
   "cell_type": "markdown",
   "id": "western-retrieval",
   "metadata": {},
   "source": [
    "# Generate the data"
   ]
  },
  {
   "cell_type": "code",
   "execution_count": 2,
   "id": "sensitive-valuable",
   "metadata": {},
   "outputs": [],
   "source": [
    "N = 500\n",
    "D_rand = 10  # concatenate this many random columns onto X\n",
    "random_proj = True  # randomly project control variables\n",
    "proj_D = 50\n",
    "\n",
    "# Confounders - X\n",
    "mu_x = np.zeros(4)\n",
    "cov_x = np.array([\n",
    "    [ 1.0,  0.5,  0.0,  0.3],\n",
    "    [ 0.5,  1.0, -0.2,  0.0],\n",
    "    [ 0.0, -0.2,  1.0, -0.7],\n",
    "    [ 0.3,  0.0, -0.7,  1.0]\n",
    "])\n",
    "\n",
    "\n",
    "# Treatment - Z\n",
    "gamma = np.array([2., 1., -0.7, -0.5])\n",
    "sig_eps = 0.2\n",
    "\n",
    "\n",
    "# Target - Y\n",
    "alpha = 0.5\n",
    "beta = np.array([1., -2., 1.5, 0.6])\n",
    "sig_nu = 0.9\n",
    "\n",
    "# Generation function\n",
    "def generate_data():\n",
    "    X = np.random.multivariate_normal(mean=mu_x, cov=cov_x, size=N)\n",
    "    Z = X @ gamma + sig_eps * np.random.randn(N)\n",
    "    Y = alpha * Z + X @ beta + sig_nu * np.random.randn(N)\n",
    "\n",
    "    X = np.hstack((X, np.random.randn(N, D_rand)))\n",
    "    if random_proj:\n",
    "        D = X.shape[1]\n",
    "        X = X @ np.random.standard_t(size=(D, proj_D), df=5)\n",
    "\n",
    "    W = np.hstack((Z[:, np.newaxis], X))\n",
    "    \n",
    "    return W, Y"
   ]
  },
  {
   "cell_type": "markdown",
   "id": "689e16bb",
   "metadata": {},
   "source": [
    "# Generate bias comparison results"
   ]
  },
  {
   "cell_type": "code",
   "execution_count": 3,
   "id": "fitting-state",
   "metadata": {
    "scrolled": false
   },
   "outputs": [
    {
     "name": "stdout",
     "output_type": "stream",
     "text": [
      "....................\n"
     ]
    },
    {
     "data": {
      "text/html": [
       "<div>\n",
       "<style scoped>\n",
       "    .dataframe tbody tr th:only-of-type {\n",
       "        vertical-align: middle;\n",
       "    }\n",
       "\n",
       "    .dataframe tbody tr th {\n",
       "        vertical-align: top;\n",
       "    }\n",
       "\n",
       "    .dataframe thead th {\n",
       "        text-align: right;\n",
       "    }\n",
       "</style>\n",
       "<table border=\"1\" class=\"dataframe\">\n",
       "  <thead>\n",
       "    <tr style=\"text-align: right;\">\n",
       "      <th></th>\n",
       "      <th>scores</th>\n",
       "      <th>biases</th>\n",
       "      <th>errors</th>\n",
       "    </tr>\n",
       "  </thead>\n",
       "  <tbody>\n",
       "    <tr>\n",
       "      <th>ols</th>\n",
       "      <td>0.866871</td>\n",
       "      <td>0.147680</td>\n",
       "      <td>0.180844</td>\n",
       "    </tr>\n",
       "    <tr>\n",
       "      <th>lasso</th>\n",
       "      <td>0.866498</td>\n",
       "      <td>0.270546</td>\n",
       "      <td>0.314848</td>\n",
       "    </tr>\n",
       "    <tr>\n",
       "      <th>ridge</th>\n",
       "      <td>0.866927</td>\n",
       "      <td>0.142757</td>\n",
       "      <td>0.176707</td>\n",
       "    </tr>\n",
       "    <tr>\n",
       "      <th>bayes</th>\n",
       "      <td>0.865899</td>\n",
       "      <td>0.392242</td>\n",
       "      <td>0.395786</td>\n",
       "    </tr>\n",
       "    <tr>\n",
       "      <th>ts</th>\n",
       "      <td>0.866932</td>\n",
       "      <td>0.147153</td>\n",
       "      <td>0.179803</td>\n",
       "    </tr>\n",
       "  </tbody>\n",
       "</table>\n",
       "</div>"
      ],
      "text/plain": [
       "         scores    biases    errors\n",
       "ols    0.866871  0.147680  0.180844\n",
       "lasso  0.866498  0.270546  0.314848\n",
       "ridge  0.866927  0.142757  0.176707\n",
       "bayes  0.865899  0.392242  0.395786\n",
       "ts     0.866932  0.147153  0.179803"
      ]
     },
     "execution_count": 3,
     "metadata": {},
     "output_type": "execute_result"
    }
   ],
   "source": [
    "S = 20\n",
    "models = {\n",
    "    \"ols\": LinearRegression(),\n",
    "    \"lasso\": Lasso(alpha=1e-2, max_iter=20000),\n",
    "    \"ridge\": Ridge(alpha=1.),\n",
    "    \"bayes\": BayesianRidge(),\n",
    "    #\"ard\": ARDRegression(),\n",
    "    \"ts\": TwoStageRidge(treatment_index=0, regulariser1=1., regulariser2=1.)\n",
    "}\n",
    "\n",
    "scores = {k: [] for k in models.keys()}\n",
    "biases = {k: [] for k in models.keys()}\n",
    "errors = {k: [] for k in models.keys()}\n",
    "\n",
    "for s in range(S):\n",
    "    W, Y = generate_data()\n",
    "    \n",
    "    for name, model in models.items():\n",
    "        model.fit(W, Y)\n",
    "        alpha_hat = model.alpha_ if name == \"ts\" else model.coef_[0] \n",
    "        bias = np.abs(alpha - alpha_hat)\n",
    "        error = bias**2\n",
    "        \n",
    "        scores[name].append(model.score(W, Y))\n",
    "        biases[name].append(bias)\n",
    "        errors[name].append(error)\n",
    "        \n",
    "    print('.', end='')\n",
    "print()\n",
    "        \n",
    "        \n",
    "scores = {k: np.mean(v) for k, v in scores.items()}\n",
    "biases = {k: np.mean(v) for k, v in biases.items()}\n",
    "errors = {k: np.sqrt(np.mean(v)) for k, v in errors.items()}\n",
    "\n",
    "\n",
    "results = pd.DataFrame({\n",
    "    \"scores\": scores,\n",
    "    \"biases\": biases,\n",
    "    \"errors\": errors\n",
    "})\n",
    "\n",
    "results"
   ]
  },
  {
   "cell_type": "code",
   "execution_count": 4,
   "id": "7087afac",
   "metadata": {},
   "outputs": [
    {
     "data": {
      "text/plain": [
       "0.992976563350982"
      ]
     },
     "execution_count": 4,
     "metadata": {},
     "output_type": "execute_result"
    }
   ],
   "source": [
    "models[\"ts\"].score_stage1(W)"
   ]
  },
  {
   "cell_type": "code",
   "execution_count": null,
   "id": "2d21d397",
   "metadata": {},
   "outputs": [],
   "source": []
  }
 ],
 "metadata": {
  "kernelspec": {
   "display_name": "Python 3",
   "language": "python",
   "name": "python3"
  },
  "language_info": {
   "codemirror_mode": {
    "name": "ipython",
    "version": 3
   },
   "file_extension": ".py",
   "mimetype": "text/x-python",
   "name": "python",
   "nbconvert_exporter": "python",
   "pygments_lexer": "ipython3",
   "version": "3.9.5"
  }
 },
 "nbformat": 4,
 "nbformat_minor": 5
}
