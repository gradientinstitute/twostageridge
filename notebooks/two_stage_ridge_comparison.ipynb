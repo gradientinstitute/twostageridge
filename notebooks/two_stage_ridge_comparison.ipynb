{
 "cells": [
  {
   "cell_type": "markdown",
   "id": "centered-difficulty",
   "metadata": {},
   "source": [
    "```\n",
    "Copyright (c) Gradient Institute. All rights reserved.\n",
    "Licensed under the Apache 2.0 License.\n",
    "```\n",
    "\n",
    "\n",
    "This notebook tests out this fix for estimating treatment effect in regularised linear models:\n",
    "\n",
    "Hahn, P.R., Carvalho, C.M., Puelz, D., He, J., 2018. Regularization and Confounding in Linear Regression for Treatment Effect Estimation. Bayesian Anal. 13. https://doi.org/10.1214/16-BA1044\n"
   ]
  },
  {
   "cell_type": "code",
   "execution_count": 1,
   "id": "neural-oasis",
   "metadata": {},
   "outputs": [],
   "source": [
    "import numpy as np\n",
    "import pandas as pd\n",
    "\n",
    "from sklearn.linear_model import LinearRegression, BayesianRidge, Lasso, Ridge\n",
    "from sklearn.model_selection import train_test_split\n",
    "from sklearn.kernel_approximation import RBFSampler\n",
    "\n",
    "from twostageridge import TwoStageRidge"
   ]
  },
  {
   "cell_type": "markdown",
   "id": "western-retrieval",
   "metadata": {},
   "source": [
    "# Generate the data"
   ]
  },
  {
   "cell_type": "code",
   "execution_count": 2,
   "id": "sensitive-valuable",
   "metadata": {},
   "outputs": [],
   "source": [
    "np.random.seed(42)\n",
    "\n",
    "N = 500\n",
    "proj_D = 100  # Up-projection dimensionality\n",
    "rbf_gamma = .1\n",
    "\n",
    "\n",
    "# Latent confounders - X\n",
    "D = 5\n",
    "mu_x = np.zeros(D)\n",
    "A = np.random.randn(D, D)\n",
    "cov_x = A @ A.T / D\n",
    "\n",
    "\n",
    "# Treatment - Z\n",
    "gamma = np.random.randn(proj_D)\n",
    "sig_eps = 0.4\n",
    "\n",
    "\n",
    "# Target - Y\n",
    "alpha = 0.3\n",
    "beta = np.random.randn(proj_D)\n",
    "sig_nu = 0.5\n",
    "\n",
    "\n",
    "# Generation function\n",
    "def generate_data():\n",
    "    \n",
    "    # Generate the latent covariates, and then a smooth non-linear function of these\n",
    "    Xo = np.random.multivariate_normal(mean=mu_x, cov=cov_x, size=N)\n",
    "    X = RBFSampler(n_components=proj_D, gamma=rbf_gamma).fit_transform(Xo)\n",
    "    \n",
    "    # Generate data according to the causal relationships X->Z, X->Y, Z->Y\n",
    "    Z = X @ gamma + sig_eps * np.random.randn(N)\n",
    "    Y = alpha * Z + X @ beta + sig_nu * np.random.randn(N)\n",
    "\n",
    "    W = np.hstack((Z[:, np.newaxis], X))\n",
    "    \n",
    "    return W, Y"
   ]
  },
  {
   "cell_type": "markdown",
   "id": "689e16bb",
   "metadata": {},
   "source": [
    "# Generate bias comparison results"
   ]
  },
  {
   "cell_type": "code",
   "execution_count": 3,
   "id": "fitting-state",
   "metadata": {
    "scrolled": false
   },
   "outputs": [
    {
     "name": "stdout",
     "output_type": "stream",
     "text": [
      "....................\n"
     ]
    },
    {
     "data": {
      "text/html": [
       "<div>\n",
       "<style scoped>\n",
       "    .dataframe tbody tr th:only-of-type {\n",
       "        vertical-align: middle;\n",
       "    }\n",
       "\n",
       "    .dataframe tbody tr th {\n",
       "        vertical-align: top;\n",
       "    }\n",
       "\n",
       "    .dataframe thead th {\n",
       "        text-align: right;\n",
       "    }\n",
       "</style>\n",
       "<table border=\"1\" class=\"dataframe\">\n",
       "  <thead>\n",
       "    <tr style=\"text-align: right;\">\n",
       "      <th></th>\n",
       "      <th>scores</th>\n",
       "      <th>mean absolute error</th>\n",
       "      <th>root mean square error</th>\n",
       "    </tr>\n",
       "  </thead>\n",
       "  <tbody>\n",
       "    <tr>\n",
       "      <th>ols</th>\n",
       "      <td>0.285480</td>\n",
       "      <td>0.043310</td>\n",
       "      <td>0.051603</td>\n",
       "    </tr>\n",
       "    <tr>\n",
       "      <th>lasso</th>\n",
       "      <td>0.639247</td>\n",
       "      <td>0.040646</td>\n",
       "      <td>0.053998</td>\n",
       "    </tr>\n",
       "    <tr>\n",
       "      <th>ridge</th>\n",
       "      <td>0.637409</td>\n",
       "      <td>0.039604</td>\n",
       "      <td>0.051681</td>\n",
       "    </tr>\n",
       "    <tr>\n",
       "      <th>bayes</th>\n",
       "      <td>0.650928</td>\n",
       "      <td>0.032775</td>\n",
       "      <td>0.041293</td>\n",
       "    </tr>\n",
       "    <tr>\n",
       "      <th>ts</th>\n",
       "      <td>0.638831</td>\n",
       "      <td>0.036214</td>\n",
       "      <td>0.045465</td>\n",
       "    </tr>\n",
       "  </tbody>\n",
       "</table>\n",
       "</div>"
      ],
      "text/plain": [
       "         scores  mean absolute error  root mean square error\n",
       "ols    0.285480             0.043310                0.051603\n",
       "lasso  0.639247             0.040646                0.053998\n",
       "ridge  0.637409             0.039604                0.051681\n",
       "bayes  0.650928             0.032775                0.041293\n",
       "ts     0.638831             0.036214                0.045465"
      ]
     },
     "execution_count": 3,
     "metadata": {},
     "output_type": "execute_result"
    }
   ],
   "source": [
    "S = 20\n",
    "models = {\n",
    "    \"ols\": LinearRegression(),\n",
    "    \"lasso\": Lasso(alpha=1e-3, max_iter=20000),\n",
    "    \"ridge\": Ridge(alpha=1.),\n",
    "    \"bayes\": BayesianRidge(),\n",
    "    \"ts\": TwoStageRidge(treatment_index=0, regulariser1=1., regulariser2=1.)\n",
    "}\n",
    "\n",
    "scores = {k: [] for k in models.keys()}\n",
    "mae = {k: [] for k in models.keys()}\n",
    "rmse = {k: [] for k in models.keys()}\n",
    "\n",
    "# Sample random datasets\n",
    "for s in range(S):\n",
    "    \n",
    "    # Generate the data and split into train and test\n",
    "    W, Y = generate_data()\n",
    "    W_train, W_test, Y_train, Y_test = train_test_split(W, Y, train_size=0.9)\n",
    "    \n",
    "    for name, model in models.items():\n",
    "        \n",
    "        # Fit the model and get the ATE (alpha)\n",
    "        model.fit(W_train, Y_train)\n",
    "        alpha_hat = model.alpha_ if name == \"ts\" else model.coef_[0]\n",
    "        err = alpha - alpha_hat\n",
    "        abs_err = np.abs(err)\n",
    "        sq_err = (err)**2\n",
    "        \n",
    "        # Score on held-out data\n",
    "        scores[name].append(model.score(W_test, Y_test))\n",
    "        mae[name].append(abs_err)\n",
    "        rmse[name].append(sq_err)\n",
    "        \n",
    "    print('.', end='')\n",
    "print()\n",
    "        \n",
    "        \n",
    "scores = {k: np.mean(v) for k, v in scores.items()}\n",
    "mae = {k: np.mean(v) for k, v in mae.items()}\n",
    "rmse = {k: np.sqrt(np.mean(v)) for k, v in rmse.items()}\n",
    "\n",
    "\n",
    "results = pd.DataFrame({\n",
    "    \"scores\": scores,\n",
    "    \"mean absolute error\": mae,\n",
    "    \"root mean square error\": rmse\n",
    "})\n",
    "\n",
    "results"
   ]
  },
  {
   "cell_type": "markdown",
   "id": "2a1adb56",
   "metadata": {},
   "source": [
    "We can also get statistics of the model from the `TwoStageRidge` model."
   ]
  },
  {
   "cell_type": "code",
   "execution_count": 5,
   "id": "37cac742",
   "metadata": {},
   "outputs": [
    {
     "data": {
      "text/plain": [
       "Statistical results:\n",
       "            alpha =\n",
       "                0.3165366492235731,\n",
       "            s.e.(alpha) =\n",
       "                0.0632061027540799\n",
       "            t-statistic(s):\n",
       "                5.008007699116379\n",
       "            p-value(s):\n",
       "                8.760122205409004e-07\n",
       "            Degrees of freedom: 348\n",
       "            "
      ]
     },
     "execution_count": 5,
     "metadata": {},
     "output_type": "execute_result"
    }
   ],
   "source": [
    "models[\"ts\"].model_statistics()"
   ]
  },
  {
   "cell_type": "code",
   "execution_count": null,
   "id": "b9844add",
   "metadata": {},
   "outputs": [],
   "source": []
  }
 ],
 "metadata": {
  "kernelspec": {
   "display_name": "Python 3",
   "language": "python",
   "name": "python3"
  },
  "language_info": {
   "codemirror_mode": {
    "name": "ipython",
    "version": 3
   },
   "file_extension": ".py",
   "mimetype": "text/x-python",
   "name": "python",
   "nbconvert_exporter": "python",
   "pygments_lexer": "ipython3",
   "version": "3.9.5"
  }
 },
 "nbformat": 4,
 "nbformat_minor": 5
}
